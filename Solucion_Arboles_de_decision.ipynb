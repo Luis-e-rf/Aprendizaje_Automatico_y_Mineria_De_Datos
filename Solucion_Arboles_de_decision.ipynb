{
  "nbformat": 4,
  "nbformat_minor": 0,
  "metadata": {
    "colab": {
      "name": "Solucion Arboles de decision.ipynb",
      "provenance": []
    },
    "kernelspec": {
      "name": "python3",
      "display_name": "Python 3"
    },
    "language_info": {
      "name": "python"
    }
  },
  "cells": [
    {
      "cell_type": "code",
      "metadata": {
        "id": "VXAuIBNat00A"
      },
      "source": [
        "import pandas as pd\n",
        "import numpy as np\n",
        "from sklearn.tree import DecisionTreeClassifier\n",
        "from sklearn.model_selection import train_test_split\n",
        "from sklearn import tree\n",
        "from sklearn import metrics\n",
        "import matplotlib.pyplot as plt"
      ],
      "execution_count": null,
      "outputs": []
    },
    {
      "cell_type": "markdown",
      "metadata": {
        "id": "wHWFkVrTufRr"
      },
      "source": [
        "# **Lectura de datos**"
      ]
    },
    {
      "cell_type": "markdown",
      "metadata": {
        "id": "pfT5FLy1z6XF"
      },
      "source": [
        "Se realiza la lectura de datos, a partir del CSV y se carga a la estructura de datos llamada DataFrame."
      ]
    },
    {
      "cell_type": "code",
      "metadata": {
        "id": "p1vlSSL8t_eB"
      },
      "source": [
        "data_admision = pd.read_csv('/content/Admission_Predict.csv')"
      ],
      "execution_count": null,
      "outputs": []
    },
    {
      "cell_type": "code",
      "metadata": {
        "colab": {
          "base_uri": "https://localhost:8080/"
        },
        "id": "x71HMIxcu84z",
        "outputId": "73e34bcc-ab43-46a3-8606-f74ad124ae9c"
      },
      "source": [
        "data_admision.columns"
      ],
      "execution_count": null,
      "outputs": [
        {
          "output_type": "execute_result",
          "data": {
            "text/plain": [
              "Index(['Serial No.', 'GRE Score', 'TOEFL Score', 'University Rating', 'SOP',\n",
              "       'LOR ', 'CGPA', 'Research', 'Chance of Admit '],\n",
              "      dtype='object')"
            ]
          },
          "metadata": {},
          "execution_count": 4
        }
      ]
    },
    {
      "cell_type": "code",
      "metadata": {
        "colab": {
          "base_uri": "https://localhost:8080/",
          "height": 300
        },
        "id": "fLCHEZuzu-5H",
        "outputId": "c953b8ec-8697-43e2-cfe4-f735747a8d2a"
      },
      "source": [
        "data_admision.head(8)"
      ],
      "execution_count": null,
      "outputs": [
        {
          "output_type": "execute_result",
          "data": {
            "text/html": [
              "<div>\n",
              "<style scoped>\n",
              "    .dataframe tbody tr th:only-of-type {\n",
              "        vertical-align: middle;\n",
              "    }\n",
              "\n",
              "    .dataframe tbody tr th {\n",
              "        vertical-align: top;\n",
              "    }\n",
              "\n",
              "    .dataframe thead th {\n",
              "        text-align: right;\n",
              "    }\n",
              "</style>\n",
              "<table border=\"1\" class=\"dataframe\">\n",
              "  <thead>\n",
              "    <tr style=\"text-align: right;\">\n",
              "      <th></th>\n",
              "      <th>Serial No.</th>\n",
              "      <th>GRE Score</th>\n",
              "      <th>TOEFL Score</th>\n",
              "      <th>University Rating</th>\n",
              "      <th>SOP</th>\n",
              "      <th>LOR</th>\n",
              "      <th>CGPA</th>\n",
              "      <th>Research</th>\n",
              "      <th>Chance of Admit</th>\n",
              "    </tr>\n",
              "  </thead>\n",
              "  <tbody>\n",
              "    <tr>\n",
              "      <th>0</th>\n",
              "      <td>1</td>\n",
              "      <td>337</td>\n",
              "      <td>118</td>\n",
              "      <td>4</td>\n",
              "      <td>4.5</td>\n",
              "      <td>4.5</td>\n",
              "      <td>9.65</td>\n",
              "      <td>1</td>\n",
              "      <td>0.92</td>\n",
              "    </tr>\n",
              "    <tr>\n",
              "      <th>1</th>\n",
              "      <td>2</td>\n",
              "      <td>324</td>\n",
              "      <td>107</td>\n",
              "      <td>4</td>\n",
              "      <td>4.0</td>\n",
              "      <td>4.5</td>\n",
              "      <td>8.87</td>\n",
              "      <td>1</td>\n",
              "      <td>0.76</td>\n",
              "    </tr>\n",
              "    <tr>\n",
              "      <th>2</th>\n",
              "      <td>3</td>\n",
              "      <td>316</td>\n",
              "      <td>104</td>\n",
              "      <td>3</td>\n",
              "      <td>3.0</td>\n",
              "      <td>3.5</td>\n",
              "      <td>8.00</td>\n",
              "      <td>1</td>\n",
              "      <td>0.72</td>\n",
              "    </tr>\n",
              "    <tr>\n",
              "      <th>3</th>\n",
              "      <td>4</td>\n",
              "      <td>322</td>\n",
              "      <td>110</td>\n",
              "      <td>3</td>\n",
              "      <td>3.5</td>\n",
              "      <td>2.5</td>\n",
              "      <td>8.67</td>\n",
              "      <td>1</td>\n",
              "      <td>0.80</td>\n",
              "    </tr>\n",
              "    <tr>\n",
              "      <th>4</th>\n",
              "      <td>5</td>\n",
              "      <td>314</td>\n",
              "      <td>103</td>\n",
              "      <td>2</td>\n",
              "      <td>2.0</td>\n",
              "      <td>3.0</td>\n",
              "      <td>8.21</td>\n",
              "      <td>0</td>\n",
              "      <td>0.65</td>\n",
              "    </tr>\n",
              "    <tr>\n",
              "      <th>5</th>\n",
              "      <td>6</td>\n",
              "      <td>330</td>\n",
              "      <td>115</td>\n",
              "      <td>5</td>\n",
              "      <td>4.5</td>\n",
              "      <td>3.0</td>\n",
              "      <td>9.34</td>\n",
              "      <td>1</td>\n",
              "      <td>0.90</td>\n",
              "    </tr>\n",
              "    <tr>\n",
              "      <th>6</th>\n",
              "      <td>7</td>\n",
              "      <td>321</td>\n",
              "      <td>109</td>\n",
              "      <td>3</td>\n",
              "      <td>3.0</td>\n",
              "      <td>4.0</td>\n",
              "      <td>8.20</td>\n",
              "      <td>1</td>\n",
              "      <td>0.75</td>\n",
              "    </tr>\n",
              "    <tr>\n",
              "      <th>7</th>\n",
              "      <td>8</td>\n",
              "      <td>308</td>\n",
              "      <td>101</td>\n",
              "      <td>2</td>\n",
              "      <td>3.0</td>\n",
              "      <td>4.0</td>\n",
              "      <td>7.90</td>\n",
              "      <td>0</td>\n",
              "      <td>0.68</td>\n",
              "    </tr>\n",
              "  </tbody>\n",
              "</table>\n",
              "</div>"
            ],
            "text/plain": [
              "   Serial No.  GRE Score  TOEFL Score  ...  CGPA  Research  Chance of Admit \n",
              "0           1        337          118  ...  9.65         1              0.92\n",
              "1           2        324          107  ...  8.87         1              0.76\n",
              "2           3        316          104  ...  8.00         1              0.72\n",
              "3           4        322          110  ...  8.67         1              0.80\n",
              "4           5        314          103  ...  8.21         0              0.65\n",
              "5           6        330          115  ...  9.34         1              0.90\n",
              "6           7        321          109  ...  8.20         1              0.75\n",
              "7           8        308          101  ...  7.90         0              0.68\n",
              "\n",
              "[8 rows x 9 columns]"
            ]
          },
          "metadata": {},
          "execution_count": 5
        }
      ]
    },
    {
      "cell_type": "markdown",
      "metadata": {
        "id": "_pfe0LV1uh_m"
      },
      "source": [
        "# **Análisis de datos**\n",
        "Este paso me lo saltaré pero ustedes saben que se puede hacer facilmente con DTale."
      ]
    },
    {
      "cell_type": "markdown",
      "metadata": {
        "id": "wEfW_p7IuuTL"
      },
      "source": [
        "# **Procesamiento de datos**\n",
        "\n",
        "\n"
      ]
    },
    {
      "cell_type": "markdown",
      "metadata": {
        "id": "dmnJePzQu5Yc"
      },
      "source": [
        "Se procesa la columna Chance of Admit y de acuerdo a su valor se coloca \"yes\" o \"no\"."
      ]
    },
    {
      "cell_type": "code",
      "metadata": {
        "id": "YgutqB8TueYZ"
      },
      "source": [
        "data_admision['admision_processed'] = np.where(data_admision['Chance of Admit '] >= 0.6, 'yes', 'no')"
      ],
      "execution_count": null,
      "outputs": []
    },
    {
      "cell_type": "code",
      "metadata": {
        "colab": {
          "base_uri": "https://localhost:8080/",
          "height": 424
        },
        "id": "g9FDfi97vrDf",
        "outputId": "6a34b29c-5bc0-4fa5-a4b8-f4273149affe"
      },
      "source": [
        "data_admision"
      ],
      "execution_count": null,
      "outputs": [
        {
          "output_type": "execute_result",
          "data": {
            "text/html": [
              "<div>\n",
              "<style scoped>\n",
              "    .dataframe tbody tr th:only-of-type {\n",
              "        vertical-align: middle;\n",
              "    }\n",
              "\n",
              "    .dataframe tbody tr th {\n",
              "        vertical-align: top;\n",
              "    }\n",
              "\n",
              "    .dataframe thead th {\n",
              "        text-align: right;\n",
              "    }\n",
              "</style>\n",
              "<table border=\"1\" class=\"dataframe\">\n",
              "  <thead>\n",
              "    <tr style=\"text-align: right;\">\n",
              "      <th></th>\n",
              "      <th>Serial No.</th>\n",
              "      <th>GRE Score</th>\n",
              "      <th>TOEFL Score</th>\n",
              "      <th>University Rating</th>\n",
              "      <th>SOP</th>\n",
              "      <th>LOR</th>\n",
              "      <th>CGPA</th>\n",
              "      <th>Research</th>\n",
              "      <th>Chance of Admit</th>\n",
              "      <th>admision_processed</th>\n",
              "    </tr>\n",
              "  </thead>\n",
              "  <tbody>\n",
              "    <tr>\n",
              "      <th>0</th>\n",
              "      <td>1</td>\n",
              "      <td>337</td>\n",
              "      <td>118</td>\n",
              "      <td>4</td>\n",
              "      <td>4.5</td>\n",
              "      <td>4.5</td>\n",
              "      <td>9.65</td>\n",
              "      <td>1</td>\n",
              "      <td>0.92</td>\n",
              "      <td>yes</td>\n",
              "    </tr>\n",
              "    <tr>\n",
              "      <th>1</th>\n",
              "      <td>2</td>\n",
              "      <td>324</td>\n",
              "      <td>107</td>\n",
              "      <td>4</td>\n",
              "      <td>4.0</td>\n",
              "      <td>4.5</td>\n",
              "      <td>8.87</td>\n",
              "      <td>1</td>\n",
              "      <td>0.76</td>\n",
              "      <td>yes</td>\n",
              "    </tr>\n",
              "    <tr>\n",
              "      <th>2</th>\n",
              "      <td>3</td>\n",
              "      <td>316</td>\n",
              "      <td>104</td>\n",
              "      <td>3</td>\n",
              "      <td>3.0</td>\n",
              "      <td>3.5</td>\n",
              "      <td>8.00</td>\n",
              "      <td>1</td>\n",
              "      <td>0.72</td>\n",
              "      <td>yes</td>\n",
              "    </tr>\n",
              "    <tr>\n",
              "      <th>3</th>\n",
              "      <td>4</td>\n",
              "      <td>322</td>\n",
              "      <td>110</td>\n",
              "      <td>3</td>\n",
              "      <td>3.5</td>\n",
              "      <td>2.5</td>\n",
              "      <td>8.67</td>\n",
              "      <td>1</td>\n",
              "      <td>0.80</td>\n",
              "      <td>yes</td>\n",
              "    </tr>\n",
              "    <tr>\n",
              "      <th>4</th>\n",
              "      <td>5</td>\n",
              "      <td>314</td>\n",
              "      <td>103</td>\n",
              "      <td>2</td>\n",
              "      <td>2.0</td>\n",
              "      <td>3.0</td>\n",
              "      <td>8.21</td>\n",
              "      <td>0</td>\n",
              "      <td>0.65</td>\n",
              "      <td>yes</td>\n",
              "    </tr>\n",
              "    <tr>\n",
              "      <th>...</th>\n",
              "      <td>...</td>\n",
              "      <td>...</td>\n",
              "      <td>...</td>\n",
              "      <td>...</td>\n",
              "      <td>...</td>\n",
              "      <td>...</td>\n",
              "      <td>...</td>\n",
              "      <td>...</td>\n",
              "      <td>...</td>\n",
              "      <td>...</td>\n",
              "    </tr>\n",
              "    <tr>\n",
              "      <th>395</th>\n",
              "      <td>396</td>\n",
              "      <td>324</td>\n",
              "      <td>110</td>\n",
              "      <td>3</td>\n",
              "      <td>3.5</td>\n",
              "      <td>3.5</td>\n",
              "      <td>9.04</td>\n",
              "      <td>1</td>\n",
              "      <td>0.82</td>\n",
              "      <td>yes</td>\n",
              "    </tr>\n",
              "    <tr>\n",
              "      <th>396</th>\n",
              "      <td>397</td>\n",
              "      <td>325</td>\n",
              "      <td>107</td>\n",
              "      <td>3</td>\n",
              "      <td>3.0</td>\n",
              "      <td>3.5</td>\n",
              "      <td>9.11</td>\n",
              "      <td>1</td>\n",
              "      <td>0.84</td>\n",
              "      <td>yes</td>\n",
              "    </tr>\n",
              "    <tr>\n",
              "      <th>397</th>\n",
              "      <td>398</td>\n",
              "      <td>330</td>\n",
              "      <td>116</td>\n",
              "      <td>4</td>\n",
              "      <td>5.0</td>\n",
              "      <td>4.5</td>\n",
              "      <td>9.45</td>\n",
              "      <td>1</td>\n",
              "      <td>0.91</td>\n",
              "      <td>yes</td>\n",
              "    </tr>\n",
              "    <tr>\n",
              "      <th>398</th>\n",
              "      <td>399</td>\n",
              "      <td>312</td>\n",
              "      <td>103</td>\n",
              "      <td>3</td>\n",
              "      <td>3.5</td>\n",
              "      <td>4.0</td>\n",
              "      <td>8.78</td>\n",
              "      <td>0</td>\n",
              "      <td>0.67</td>\n",
              "      <td>yes</td>\n",
              "    </tr>\n",
              "    <tr>\n",
              "      <th>399</th>\n",
              "      <td>400</td>\n",
              "      <td>333</td>\n",
              "      <td>117</td>\n",
              "      <td>4</td>\n",
              "      <td>5.0</td>\n",
              "      <td>4.0</td>\n",
              "      <td>9.66</td>\n",
              "      <td>1</td>\n",
              "      <td>0.95</td>\n",
              "      <td>yes</td>\n",
              "    </tr>\n",
              "  </tbody>\n",
              "</table>\n",
              "<p>400 rows × 10 columns</p>\n",
              "</div>"
            ],
            "text/plain": [
              "     Serial No.  GRE Score  ...  Chance of Admit   admision_processed\n",
              "0             1        337  ...              0.92                 yes\n",
              "1             2        324  ...              0.76                 yes\n",
              "2             3        316  ...              0.72                 yes\n",
              "3             4        322  ...              0.80                 yes\n",
              "4             5        314  ...              0.65                 yes\n",
              "..          ...        ...  ...               ...                 ...\n",
              "395         396        324  ...              0.82                 yes\n",
              "396         397        325  ...              0.84                 yes\n",
              "397         398        330  ...              0.91                 yes\n",
              "398         399        312  ...              0.67                 yes\n",
              "399         400        333  ...              0.95                 yes\n",
              "\n",
              "[400 rows x 10 columns]"
            ]
          },
          "metadata": {},
          "execution_count": 8
        }
      ]
    },
    {
      "cell_type": "markdown",
      "metadata": {
        "id": "rj1Yz24G0LPt"
      },
      "source": [
        "Se definde las variables predictoras, eliminamos Serial No. dado que es un identificado secuencial que no le aporta nada al ejercicio. Y no tomamos ni Chance of Admit ni admision_processed, dado que: la primera ya no nos sirve, por eso hemos creado admision_processed y esta segunda variable será nuestra variable target u objetivo."
      ]
    },
    {
      "cell_type": "code",
      "metadata": {
        "id": "pM0eMarivwu0"
      },
      "source": [
        "predictor_variables_list = ['GRE Score', 'TOEFL Score', 'University Rating',\n",
        "                            'SOP', 'LOR ', 'CGPA', 'Research']\n",
        "predictor_df =  data_admision[predictor_variables_list]\n",
        "\n",
        "target_df = data_admision['admision_processed']"
      ],
      "execution_count": null,
      "outputs": []
    },
    {
      "cell_type": "code",
      "metadata": {
        "colab": {
          "base_uri": "https://localhost:8080/"
        },
        "id": "GIld16ckHTA5",
        "outputId": "d49b8cab-bb70-41a1-ca12-7d99f3e9d625"
      },
      "source": [
        "target_df"
      ],
      "execution_count": null,
      "outputs": [
        {
          "output_type": "execute_result",
          "data": {
            "text/plain": [
              "0      yes\n",
              "1      yes\n",
              "2      yes\n",
              "3      yes\n",
              "4      yes\n",
              "      ... \n",
              "395    yes\n",
              "396    yes\n",
              "397    yes\n",
              "398    yes\n",
              "399    yes\n",
              "Name: admision_processed, Length: 400, dtype: object"
            ]
          },
          "metadata": {},
          "execution_count": 11
        }
      ]
    },
    {
      "cell_type": "markdown",
      "metadata": {
        "id": "z9dMk6Mazz0C"
      },
      "source": [
        "Se realiza la separación del conjunto de datos, en entrenamiento y prueba."
      ]
    },
    {
      "cell_type": "code",
      "metadata": {
        "id": "xNTfxeVSwTDT"
      },
      "source": [
        "X_train, X_test, y_train, y_test = train_test_split(predictor_df, target_df, test_size=0.3, random_state=23)"
      ],
      "execution_count": null,
      "outputs": []
    },
    {
      "cell_type": "markdown",
      "metadata": {
        "id": "yI99wAvcwd0E"
      },
      "source": [
        "# **Modelo**"
      ]
    },
    {
      "cell_type": "markdown",
      "metadata": {
        "id": "CBAjbnhzzdPg"
      },
      "source": [
        "Se define e inicializa el modelo de árbol de decisión, con un random_state igual a cero y una profundidad máxima de 3."
      ]
    },
    {
      "cell_type": "code",
      "metadata": {
        "id": "xGJT-PJLwdZl"
      },
      "source": [
        "decision_tree_classifier = DecisionTreeClassifier(random_state = 0, max_depth=3)"
      ],
      "execution_count": null,
      "outputs": []
    },
    {
      "cell_type": "markdown",
      "metadata": {
        "id": "DfEYrcC9zmr3"
      },
      "source": [
        "Una vez inicializados, se procede a entrenar el modelo de árbol de decisión, con el conjunto de entrenamiento (X_train) y los true label o etiquetas verdaderas asociadas a las instancias de entrenamiento (y_train)."
      ]
    },
    {
      "cell_type": "code",
      "metadata": {
        "colab": {
          "base_uri": "https://localhost:8080/"
        },
        "id": "L6YJR_i-wrnv",
        "outputId": "2d2c8d4f-fa58-4eb2-d8fd-43759ff7e7c0"
      },
      "source": [
        "decision_tree_classifier.fit(X_train, y_train)"
      ],
      "execution_count": null,
      "outputs": [
        {
          "output_type": "execute_result",
          "data": {
            "text/plain": [
              "DecisionTreeClassifier(max_depth=3, random_state=0)"
            ]
          },
          "metadata": {},
          "execution_count": 15
        }
      ]
    },
    {
      "cell_type": "markdown",
      "metadata": {
        "id": "P7uTggTaxQ_x"
      },
      "source": [
        "# **Graficación del modelo**"
      ]
    },
    {
      "cell_type": "markdown",
      "metadata": {
        "id": "65BmVObkHyma"
      },
      "source": [
        "Se grafica el modelo de árboles de decisión entrenado."
      ]
    },
    {
      "cell_type": "code",
      "metadata": {
        "colab": {
          "base_uri": "https://localhost:8080/",
          "height": 936
        },
        "id": "maCpNWnlxT_5",
        "outputId": "1941a349-3e6c-4567-de1b-df4534ae236d"
      },
      "source": [
        "fn=predictor_variables_list\n",
        "cn=[\"yes\", \"no\"]\n",
        "fig, axes = plt.subplots(nrows = 1,ncols = 1,figsize = (17,17))\n",
        "tree.plot_tree(decision_tree_classifier,\n",
        "               feature_names = fn, \n",
        "               class_names=cn,\n",
        "               filled = True);"
      ],
      "execution_count": null,
      "outputs": [
        {
          "output_type": "display_data",
          "data": {
            "image/png": "[encoded data removed]",
            "text/plain": [
              "<Figure size 1224x1224 with 1 Axes>"
            ]
          },
          "metadata": {
            "needs_background": "light"
          }
        }
      ]
    },
    {
      "cell_type": "markdown",
      "metadata": {
        "id": "9brrxeWMx9qk"
      },
      "source": [
        "# **Evaluación del modelo**"
      ]
    },
    {
      "cell_type": "markdown",
      "metadata": {
        "id": "wsEHm4IszQuf"
      },
      "source": [
        "Obtenemos la predicción hecha por el modelo entrenado,a partir del conjunto de datos de prueba."
      ]
    },
    {
      "cell_type": "code",
      "metadata": {
        "colab": {
          "base_uri": "https://localhost:8080/"
        },
        "id": "pyRNj80UyYHw",
        "outputId": "21dfaeda-42ee-4ef5-d5ca-0f0578dcb849"
      },
      "source": [
        "predictions = decision_tree_classifier.predict(X_test)\n",
        "predictions"
      ],
      "execution_count": null,
      "outputs": [
        {
          "output_type": "execute_result",
          "data": {
            "text/plain": [
              "array(['yes', 'yes', 'yes', 'yes', 'no', 'no', 'yes', 'yes', 'yes', 'yes',\n",
              "       'yes', 'yes', 'yes', 'yes', 'yes', 'yes', 'yes', 'yes', 'no',\n",
              "       'yes', 'yes', 'yes', 'no', 'yes', 'no', 'yes', 'yes', 'yes', 'yes',\n",
              "       'yes', 'no', 'yes', 'yes', 'no', 'no', 'yes', 'yes', 'yes', 'yes',\n",
              "       'yes', 'yes', 'yes', 'no', 'yes', 'yes', 'yes', 'no', 'yes', 'yes',\n",
              "       'yes', 'yes', 'yes', 'yes', 'yes', 'yes', 'no', 'yes', 'yes',\n",
              "       'yes', 'yes', 'yes', 'yes', 'no', 'yes', 'yes', 'yes', 'yes',\n",
              "       'yes', 'yes', 'yes', 'yes', 'yes', 'yes', 'yes', 'yes', 'yes',\n",
              "       'yes', 'yes', 'yes', 'yes', 'yes', 'yes', 'yes', 'no', 'yes', 'no',\n",
              "       'yes', 'yes', 'yes', 'yes', 'yes', 'no', 'no', 'yes', 'yes', 'yes',\n",
              "       'yes', 'yes', 'yes', 'yes', 'yes', 'yes', 'yes', 'yes', 'yes',\n",
              "       'yes', 'no', 'yes', 'yes', 'yes', 'yes', 'yes', 'yes', 'no', 'yes',\n",
              "       'yes', 'yes', 'yes', 'yes', 'yes'], dtype=object)"
            ]
          },
          "metadata": {},
          "execution_count": 19
        }
      ]
    },
    {
      "cell_type": "code",
      "metadata": {
        "colab": {
          "base_uri": "https://localhost:8080/"
        },
        "id": "d2Ymz6UjyiQe",
        "outputId": "7b194854-af79-462d-b9fa-c2e455c7c68d"
      },
      "source": [
        "y_test"
      ],
      "execution_count": null,
      "outputs": [
        {
          "output_type": "execute_result",
          "data": {
            "text/plain": [
              "133    yes\n",
              "331    yes\n",
              "167    yes\n",
              "335    yes\n",
              "239     no\n",
              "      ... \n",
              "189    yes\n",
              "321    yes\n",
              "165    yes\n",
              "19     yes\n",
              "84     yes\n",
              "Name: admision_processed, Length: 120, dtype: object"
            ]
          },
          "metadata": {},
          "execution_count": 21
        }
      ]
    },
    {
      "cell_type": "code",
      "metadata": {
        "colab": {
          "base_uri": "https://localhost:8080/"
        },
        "id": "LgTX0aL9yBN0",
        "outputId": "6dc38589-a0b1-4057-ea6f-2209dcda5ea4"
      },
      "source": [
        "print(\"Accuracy:\",metrics.accuracy_score(y_test, predictions))\n",
        "print(\"Precision:\",metrics.precision_score(y_test, predictions, average='micro'))\n",
        "print(\"Recall:\",metrics.recall_score(y_test, predictions, average='micro'))\n",
        "print(\"f1_score:\",metrics.f1_score(y_test, predictions, average='micro'))\n",
        "print(\"Kappa:\",metrics.cohen_kappa_score(y_test, predictions))\n"
      ],
      "execution_count": null,
      "outputs": [
        {
          "output_type": "stream",
          "name": "stdout",
          "text": [
            "Accuracy: 0.9166666666666666\n",
            "Precision: 0.9166666666666666\n",
            "Recall: 0.9166666666666666\n",
            "f1_score: 0.9166666666666666\n",
            "Kappa: 0.7005988023952096\n"
          ]
        }
      ]
    },
    {
      "cell_type": "markdown",
      "metadata": {
        "id": "EoE8tbmHy4yJ"
      },
      "source": [
        "A partir de las métricas anteriores, se puede observar que el modelo entrenado presentar alrededor de una 91.6% de precisión durante su fase de predicción."
      ]
    },
    {
      "cell_type": "code",
      "metadata": {
        "colab": {
          "base_uri": "https://localhost:8080/"
        },
        "id": "rfVGMMdoyPDt",
        "outputId": "b05f6162-8edd-434b-f87b-6e09dba72a4a"
      },
      "source": [
        "matrix = metrics.confusion_matrix(y_test, predictions)\n",
        "matrix"
      ],
      "execution_count": null,
      "outputs": [
        {
          "output_type": "execute_result",
          "data": {
            "text/plain": [
              "array([[15,  7],\n",
              "       [ 3, 95]])"
            ]
          },
          "metadata": {},
          "execution_count": 22
        }
      ]
    },
    {
      "cell_type": "markdown",
      "metadata": {
        "id": "l4gMYlDvzCcM"
      },
      "source": [
        "A partir de la matriz de confusión generada, podemos ver que sobresale la diagonal principal, sin embargo el dataset de test expone que es desbalanceado al tener tan pocas instancias de la primera clase."
      ]
    },
    {
      "cell_type": "code",
      "metadata": {
        "id": "vXM0C-jYyQcg"
      },
      "source": [
        ""
      ],
      "execution_count": null,
      "outputs": []
    }
  ]
}